{
 "cells": [
  {
   "cell_type": "code",
   "execution_count": 3,
   "metadata": {},
   "outputs": [
    {
     "name": "stdout",
     "output_type": "stream",
     "text": [
      "Defaulting to user installation because normal site-packages is not writeableNote: you may need to restart the kernel to use updated packages.\n"
     ]
    },
    {
     "name": "stderr",
     "output_type": "stream",
     "text": [
      "\n",
      "[notice] A new release of pip is available: 24.3.1 -> 25.0.1\n",
      "[notice] To update, run: C:\\Users\\kapna\\AppData\\Local\\Microsoft\\WindowsApps\\PythonSoftwareFoundation.Python.3.13_qbz5n2kfra8p0\\python.exe -m pip install --upgrade pip\n"
     ]
    },
    {
     "name": "stdout",
     "output_type": "stream",
     "text": [
      "\n",
      "Requirement already satisfied: pandas in c:\\users\\kapna\\appdata\\local\\packages\\pythonsoftwarefoundation.python.3.13_qbz5n2kfra8p0\\localcache\\local-packages\\python313\\site-packages (2.2.3)\n",
      "Requirement already satisfied: numpy>=1.26.0 in c:\\users\\kapna\\appdata\\local\\packages\\pythonsoftwarefoundation.python.3.13_qbz5n2kfra8p0\\localcache\\local-packages\\python313\\site-packages (from pandas) (2.2.3)\n",
      "Requirement already satisfied: python-dateutil>=2.8.2 in c:\\users\\kapna\\appdata\\local\\packages\\pythonsoftwarefoundation.python.3.13_qbz5n2kfra8p0\\localcache\\local-packages\\python313\\site-packages (from pandas) (2.9.0.post0)\n",
      "Requirement already satisfied: pytz>=2020.1 in c:\\users\\kapna\\appdata\\local\\packages\\pythonsoftwarefoundation.python.3.13_qbz5n2kfra8p0\\localcache\\local-packages\\python313\\site-packages (from pandas) (2025.1)\n",
      "Requirement already satisfied: tzdata>=2022.7 in c:\\users\\kapna\\appdata\\local\\packages\\pythonsoftwarefoundation.python.3.13_qbz5n2kfra8p0\\localcache\\local-packages\\python313\\site-packages (from pandas) (2025.1)\n",
      "Requirement already satisfied: six>=1.5 in c:\\users\\kapna\\appdata\\local\\packages\\pythonsoftwarefoundation.python.3.13_qbz5n2kfra8p0\\localcache\\local-packages\\python313\\site-packages (from python-dateutil>=2.8.2->pandas) (1.17.0)\n"
     ]
    }
   ],
   "source": [
    "\n",
    "\n",
    "pip install pandas"
   ]
  },
  {
   "cell_type": "code",
   "execution_count": 4,
   "metadata": {},
   "outputs": [
    {
     "name": "stdout",
     "output_type": "stream",
     "text": [
      "Defaulting to user installation because normal site-packages is not writeable\n",
      "Requirement already satisfied: numpy in c:\\users\\kapna\\appdata\\local\\packages\\pythonsoftwarefoundation.python.3.13_qbz5n2kfra8p0\\localcache\\local-packages\\python313\\site-packages (2.2.3)\n",
      "Note: you may need to restart the kernel to use updated packages.\n"
     ]
    },
    {
     "name": "stderr",
     "output_type": "stream",
     "text": [
      "\n",
      "[notice] A new release of pip is available: 24.3.1 -> 25.0.1\n",
      "[notice] To update, run: C:\\Users\\kapna\\AppData\\Local\\Microsoft\\WindowsApps\\PythonSoftwareFoundation.Python.3.13_qbz5n2kfra8p0\\python.exe -m pip install --upgrade pip\n"
     ]
    }
   ],
   "source": [
    "pip install numpy"
   ]
  },
  {
   "cell_type": "code",
   "execution_count": 5,
   "metadata": {},
   "outputs": [
    {
     "name": "stdout",
     "output_type": "stream",
     "text": [
      "Defaulting to user installation because normal site-packages is not writeableNote: you may need to restart the kernel to use updated packages.\n"
     ]
    },
    {
     "name": "stderr",
     "output_type": "stream",
     "text": [
      "\n",
      "[notice] A new release of pip is available: 24.3.1 -> 25.0.1\n",
      "[notice] To update, run: C:\\Users\\kapna\\AppData\\Local\\Microsoft\\WindowsApps\\PythonSoftwareFoundation.Python.3.13_qbz5n2kfra8p0\\python.exe -m pip install --upgrade pip\n"
     ]
    },
    {
     "name": "stdout",
     "output_type": "stream",
     "text": [
      "\n",
      "Requirement already satisfied: tabulate in c:\\users\\kapna\\appdata\\local\\packages\\pythonsoftwarefoundation.python.3.13_qbz5n2kfra8p0\\localcache\\local-packages\\python313\\site-packages (0.9.0)\n"
     ]
    }
   ],
   "source": [
    "pip install tabulate"
   ]
  },
  {
   "cell_type": "code",
   "execution_count": 6,
   "metadata": {},
   "outputs": [
    {
     "name": "stdout",
     "output_type": "stream",
     "text": [
      "Defaulting to user installation because normal site-packages is not writeable\n",
      "Collecting missingno\n",
      "  Downloading missingno-0.5.2-py3-none-any.whl.metadata (639 bytes)\n",
      "Requirement already satisfied: numpy in c:\\users\\kapna\\appdata\\local\\packages\\pythonsoftwarefoundation.python.3.13_qbz5n2kfra8p0\\localcache\\local-packages\\python313\\site-packages (from missingno) (2.2.3)\n",
      "Collecting matplotlib (from missingno)\n",
      "  Downloading matplotlib-3.10.1-cp313-cp313-win_amd64.whl.metadata (11 kB)\n",
      "Collecting scipy (from missingno)\n",
      "  Downloading scipy-1.15.2-cp313-cp313-win_amd64.whl.metadata (60 kB)\n",
      "Collecting seaborn (from missingno)\n",
      "  Downloading seaborn-0.13.2-py3-none-any.whl.metadata (5.4 kB)\n",
      "Collecting contourpy>=1.0.1 (from matplotlib->missingno)\n",
      "  Downloading contourpy-1.3.1-cp313-cp313-win_amd64.whl.metadata (5.4 kB)\n",
      "Collecting cycler>=0.10 (from matplotlib->missingno)\n",
      "  Downloading cycler-0.12.1-py3-none-any.whl.metadata (3.8 kB)\n",
      "Collecting fonttools>=4.22.0 (from matplotlib->missingno)\n",
      "  Downloading fonttools-4.56.0-cp313-cp313-win_amd64.whl.metadata (103 kB)\n",
      "Collecting kiwisolver>=1.3.1 (from matplotlib->missingno)\n",
      "  Downloading kiwisolver-1.4.8-cp313-cp313-win_amd64.whl.metadata (6.3 kB)\n",
      "Requirement already satisfied: packaging>=20.0 in c:\\users\\kapna\\appdata\\local\\packages\\pythonsoftwarefoundation.python.3.13_qbz5n2kfra8p0\\localcache\\local-packages\\python313\\site-packages (from matplotlib->missingno) (24.2)\n",
      "Collecting pillow>=8 (from matplotlib->missingno)\n",
      "  Downloading pillow-11.1.0-cp313-cp313-win_amd64.whl.metadata (9.3 kB)\n",
      "Collecting pyparsing>=2.3.1 (from matplotlib->missingno)\n",
      "  Downloading pyparsing-3.2.3-py3-none-any.whl.metadata (5.0 kB)\n",
      "Requirement already satisfied: python-dateutil>=2.7 in c:\\users\\kapna\\appdata\\local\\packages\\pythonsoftwarefoundation.python.3.13_qbz5n2kfra8p0\\localcache\\local-packages\\python313\\site-packages (from matplotlib->missingno) (2.9.0.post0)\n",
      "Requirement already satisfied: pandas>=1.2 in c:\\users\\kapna\\appdata\\local\\packages\\pythonsoftwarefoundation.python.3.13_qbz5n2kfra8p0\\localcache\\local-packages\\python313\\site-packages (from seaborn->missingno) (2.2.3)\n",
      "Requirement already satisfied: pytz>=2020.1 in c:\\users\\kapna\\appdata\\local\\packages\\pythonsoftwarefoundation.python.3.13_qbz5n2kfra8p0\\localcache\\local-packages\\python313\\site-packages (from pandas>=1.2->seaborn->missingno) (2025.1)\n",
      "Requirement already satisfied: tzdata>=2022.7 in c:\\users\\kapna\\appdata\\local\\packages\\pythonsoftwarefoundation.python.3.13_qbz5n2kfra8p0\\localcache\\local-packages\\python313\\site-packages (from pandas>=1.2->seaborn->missingno) (2025.1)\n",
      "Requirement already satisfied: six>=1.5 in c:\\users\\kapna\\appdata\\local\\packages\\pythonsoftwarefoundation.python.3.13_qbz5n2kfra8p0\\localcache\\local-packages\\python313\\site-packages (from python-dateutil>=2.7->matplotlib->missingno) (1.17.0)\n",
      "Downloading missingno-0.5.2-py3-none-any.whl (8.7 kB)\n",
      "Downloading matplotlib-3.10.1-cp313-cp313-win_amd64.whl (8.1 MB)\n",
      "   ---------------------------------------- 0.0/8.1 MB ? eta -:--:--\n",
      "   ----------- ---------------------------- 2.4/8.1 MB 9.7 MB/s eta 0:00:01\n",
      "   -------------- ------------------------- 2.9/8.1 MB 8.7 MB/s eta 0:00:01\n",
      "   --------------- ------------------------ 3.1/8.1 MB 5.9 MB/s eta 0:00:01\n",
      "   ---------------- ----------------------- 3.4/8.1 MB 4.4 MB/s eta 0:00:02\n",
      "   ---------------- ----------------------- 3.4/8.1 MB 4.4 MB/s eta 0:00:02\n",
      "   ------------------ --------------------- 3.7/8.1 MB 3.1 MB/s eta 0:00:02\n",
      "   ------------------- -------------------- 3.9/8.1 MB 2.5 MB/s eta 0:00:02\n",
      "   -------------------- ------------------- 4.2/8.1 MB 2.4 MB/s eta 0:00:02\n",
      "   ---------------------- ----------------- 4.5/8.1 MB 2.3 MB/s eta 0:00:02\n",
      "   ------------------------ --------------- 5.0/8.1 MB 2.2 MB/s eta 0:00:02\n",
      "   --------------------------- ------------ 5.5/8.1 MB 2.2 MB/s eta 0:00:02\n",
      "   ---------------------------- ----------- 5.8/8.1 MB 2.2 MB/s eta 0:00:02\n",
      "   ------------------------------- -------- 6.3/8.1 MB 2.2 MB/s eta 0:00:01\n",
      "   --------------------------------- ------ 6.8/8.1 MB 2.2 MB/s eta 0:00:01\n",
      "   ----------------------------------- ---- 7.1/8.1 MB 2.2 MB/s eta 0:00:01\n",
      "   ------------------------------------ --- 7.3/8.1 MB 2.1 MB/s eta 0:00:01\n",
      "   ------------------------------------- -- 7.6/8.1 MB 2.1 MB/s eta 0:00:01\n",
      "   ---------------------------------------- 8.1/8.1 MB 2.1 MB/s eta 0:00:00\n",
      "Downloading scipy-1.15.2-cp313-cp313-win_amd64.whl (41.0 MB)\n",
      "   ---------------------------------------- 0.0/41.0 MB ? eta -:--:--\n",
      "   ---------------------------------------- 0.3/41.0 MB ? eta -:--:--\n",
      "    --------------------------------------- 0.5/41.0 MB 2.0 MB/s eta 0:00:21\n",
      "   - -------------------------------------- 1.0/41.0 MB 1.9 MB/s eta 0:00:22\n",
      "   - -------------------------------------- 1.6/41.0 MB 2.0 MB/s eta 0:00:20\n",
      "   - -------------------------------------- 1.6/41.0 MB 2.0 MB/s eta 0:00:20\n",
      "   - -------------------------------------- 1.8/41.0 MB 1.6 MB/s eta 0:00:25\n",
      "   -- ------------------------------------- 2.1/41.0 MB 1.6 MB/s eta 0:00:25\n",
      "   -- ------------------------------------- 2.4/41.0 MB 1.5 MB/s eta 0:00:26\n",
      "   -- ------------------------------------- 2.6/41.0 MB 1.4 MB/s eta 0:00:28\n",
      "   -- ------------------------------------- 2.9/41.0 MB 1.5 MB/s eta 0:00:26\n",
      "   --- ------------------------------------ 3.1/41.0 MB 1.4 MB/s eta 0:00:27\n",
      "   --- ------------------------------------ 3.1/41.0 MB 1.4 MB/s eta 0:00:27\n",
      "   --- ------------------------------------ 3.7/41.0 MB 1.4 MB/s eta 0:00:28\n",
      "   ---- ----------------------------------- 4.7/41.0 MB 1.6 MB/s eta 0:00:23\n",
      "   ----- ---------------------------------- 6.0/41.0 MB 2.0 MB/s eta 0:00:18\n",
      "   -------- ------------------------------- 8.4/41.0 MB 2.6 MB/s eta 0:00:13\n",
      "   --------- ------------------------------ 10.2/41.0 MB 3.0 MB/s eta 0:00:11\n",
      "   ------------ --------------------------- 12.3/41.0 MB 3.4 MB/s eta 0:00:09\n",
      "   -------------- ------------------------- 14.7/41.0 MB 3.8 MB/s eta 0:00:07\n",
      "   ----------------- ---------------------- 17.6/41.0 MB 4.4 MB/s eta 0:00:06\n",
      "   ------------------- -------------------- 20.2/41.0 MB 4.8 MB/s eta 0:00:05\n",
      "   ---------------------- ----------------- 22.8/41.0 MB 5.2 MB/s eta 0:00:04\n",
      "   ------------------------- -------------- 25.7/41.0 MB 5.5 MB/s eta 0:00:03\n",
      "   -------------------------- ------------- 27.5/41.0 MB 5.7 MB/s eta 0:00:03\n",
      "   ---------------------------- ----------- 28.8/41.0 MB 5.8 MB/s eta 0:00:03\n",
      "Note: you may need to restart the kernel to use updated packages.\n"
     ]
    },
    {
     "name": "stderr",
     "output_type": "stream",
     "text": [
      "ERROR: Could not install packages due to an OSError: [Errno 28] No space left on device\n",
      "\n",
      "\n",
      "[notice] A new release of pip is available: 24.3.1 -> 25.0.1\n",
      "[notice] To update, run: C:\\Users\\kapna\\AppData\\Local\\Microsoft\\WindowsApps\\PythonSoftwareFoundation.Python.3.13_qbz5n2kfra8p0\\python.exe -m pip install --upgrade pip\n"
     ]
    }
   ],
   "source": [
    "pip install missingno"
   ]
  },
  {
   "cell_type": "code",
   "execution_count": 7,
   "metadata": {},
   "outputs": [
    {
     "ename": "ModuleNotFoundError",
     "evalue": "No module named 'missingno'",
     "output_type": "error",
     "traceback": [
      "\u001b[1;31m---------------------------------------------------------------------------\u001b[0m",
      "\u001b[1;31mModuleNotFoundError\u001b[0m                       Traceback (most recent call last)",
      "Cell \u001b[1;32mIn[7], line 4\u001b[0m\n\u001b[0;32m      2\u001b[0m \u001b[38;5;28;01mimport\u001b[39;00m\u001b[38;5;250m \u001b[39m\u001b[38;5;21;01mnumpy\u001b[39;00m\u001b[38;5;250m \u001b[39m\u001b[38;5;28;01mas\u001b[39;00m\u001b[38;5;250m \u001b[39m\u001b[38;5;21;01mnp\u001b[39;00m\n\u001b[0;32m      3\u001b[0m \u001b[38;5;28;01mfrom\u001b[39;00m\u001b[38;5;250m \u001b[39m\u001b[38;5;21;01mtabulate\u001b[39;00m\u001b[38;5;250m \u001b[39m\u001b[38;5;28;01mimport\u001b[39;00m tabulate\n\u001b[1;32m----> 4\u001b[0m \u001b[38;5;28;01mimport\u001b[39;00m\u001b[38;5;250m \u001b[39m\u001b[38;5;21;01mmissingno\u001b[39;00m\u001b[38;5;250m \u001b[39m\u001b[38;5;28;01mas\u001b[39;00m\u001b[38;5;250m \u001b[39m\u001b[38;5;21;01mmsno\u001b[39;00m\n\u001b[0;32m      7\u001b[0m \u001b[38;5;66;03m# Chemins des fichiers\u001b[39;00m\n\u001b[0;32m      8\u001b[0m file_path_reviews \u001b[38;5;241m=\u001b[39m \u001b[38;5;124mr\u001b[39m\u001b[38;5;124m\"\u001b[39m\u001b[38;5;124mD:\u001b[39m\u001b[38;5;124m\\\u001b[39m\u001b[38;5;124mdoc.fr icare\u001b[39m\u001b[38;5;124m\\\u001b[39m\u001b[38;5;124mM1 DSP\u001b[39m\u001b[38;5;124m\\\u001b[39m\u001b[38;5;124mData Mining\u001b[39m\u001b[38;5;124m\\\u001b[39m\u001b[38;5;124mprojets de groupe data mining\u001b[39m\u001b[38;5;124m\\\u001b[39m\u001b[38;5;124mrecommEngine-master\u001b[39m\u001b[38;5;124m\\\u001b[39m\u001b[38;5;124mdata\u001b[39m\u001b[38;5;124m\\\u001b[39m\u001b[38;5;124m1000_reviews.json\u001b[39m\u001b[38;5;124m\"\u001b[39m\n",
      "\u001b[1;31mModuleNotFoundError\u001b[0m: No module named 'missingno'"
     ]
    }
   ],
   "source": [
    "\n",
    "import pandas as pd\n",
    "import numpy as np\n",
    "from tabulate import tabulate\n",
    "import missingno as msno\n",
    " \n",
    " \n",
    "# Chemins des fichiers\n",
    "file_path_reviews = r\"D:\\doc.fr icare\\M1 DSP\\Data Mining\\projets de groupe data mining\\recommEngine-master\\data\\1000_reviews.json\"\n",
    "file_path_products = r\"D:\\doc.fr icare\\M1 DSP\\Data Mining\\projets de groupe data mining\\recommEngine-master\\data\\500.json\"\n",
    " \n",
    "# Charger les fichiers JSON\n",
    "df_reviews = pd.read_json(file_path_reviews, lines=True, encoding='utf-8')\n",
    "df_products = pd.read_json(file_path_products, lines=True, encoding='utf-8')\n",
    " \n",
    "pd.set_option('display.max_columns', None)\n",
    "pd.set_option('display.max_colwidth', None)\n",
    " \n",
    "# Afficher un aperçu des données\n",
    "print(tabulate(df_reviews.head(), headers='keys', tablefmt='grid'))\n",
    "print(tabulate(df_products.head(), headers='keys', tablefmt='grid'))\n",
    " \n",
    "# verifier la structure des données\n",
    "print(df_reviews.info())\n",
    "print(df_products.info())\n",
    " "
   ]
  },
  {
   "cell_type": "code",
   "execution_count": 8,
   "metadata": {},
   "outputs": [
    {
     "ename": "NameError",
     "evalue": "name 'df_reviews' is not defined",
     "output_type": "error",
     "traceback": [
      "\u001b[1;31m---------------------------------------------------------------------------\u001b[0m",
      "\u001b[1;31mNameError\u001b[0m                                 Traceback (most recent call last)",
      "Cell \u001b[1;32mIn[8], line 2\u001b[0m\n\u001b[0;32m      1\u001b[0m \u001b[38;5;66;03m#identification des valeurs manquantes\u001b[39;00m\n\u001b[1;32m----> 2\u001b[0m reviews_missing \u001b[38;5;241m=\u001b[39m \u001b[43mdf_reviews\u001b[49m\u001b[38;5;241m.\u001b[39misnull()\u001b[38;5;241m.\u001b[39msum()\n\u001b[0;32m      3\u001b[0m products_missing \u001b[38;5;241m=\u001b[39m df_products\u001b[38;5;241m.\u001b[39misnull()\u001b[38;5;241m.\u001b[39msum()\n\u001b[0;32m      4\u001b[0m \u001b[38;5;28mprint\u001b[39m(\u001b[38;5;124m\"\u001b[39m\u001b[38;5;124mles valeurs manquantes dans le reviews\u001b[39m\u001b[38;5;124m\"\u001b[39m)\n",
      "\u001b[1;31mNameError\u001b[0m: name 'df_reviews' is not defined"
     ]
    }
   ],
   "source": [
    "#identification des valeurs manquantes\n",
    "reviews_missing = df_reviews.isnull().sum()\n",
    "products_missing = df_products.isnull().sum()\n",
    "print(\"les valeurs manquantes dans le reviews\")\n",
    "print(reviews_missing)\n",
    "print(\"\\nles valeurs manquantes dans les produits\")\n",
    "print(products_missing)\n",
    "#visualisation des valeurs manquantes\n",
    "msno.matrix(df_reviews)\n",
    "msno.matrix(df_products)"
   ]
  },
  {
   "cell_type": "code",
   "execution_count": null,
   "metadata": {},
   "outputs": [],
   "source": [
    "#traitement des valeus manquante\n",
    "df_products['price'] = df_products['price'].fillna(df_products['price'].mean()) # Remplacer NaN par la moyenne\n",
    "df_products['brand'] = df_products['brand'].fillna('Non précisé')  # Remplacer NaN par 'Non précisé'\n",
    "df_products['related'] = df_products['related'].apply(lambda x: x if isinstance(x, dict) else {}) #remplacé nan par une liste vide {}\n",
    "df_products['salesRank'] = df_products['salesRank'].apply(lambda x: x if isinstance(x, dict) else {})# remplacé nan par un dictinaire vide\n",
    " \n",
    " \n",
    " \n",
    "df_reviews['reviewerName'] = df_reviews['reviewerName'].fillna('Anonyme')\n",
    " \n",
    "print(\"Valeurs manquantes dans df_reviews :\")\n",
    "print(df_reviews.isnull().sum())\n",
    "print(\"\\nValeurs manquantes dans df_products :\")\n",
    "print(df_products.isnull().sum())"
   ]
  }
 ],
 "metadata": {
  "kernelspec": {
   "display_name": "Python 3",
   "language": "python",
   "name": "python3"
  },
  "language_info": {
   "codemirror_mode": {
    "name": "ipython",
    "version": 3
   },
   "file_extension": ".py",
   "mimetype": "text/x-python",
   "name": "python",
   "nbconvert_exporter": "python",
   "pygments_lexer": "ipython3",
   "version": "3.13.2"
  }
 },
 "nbformat": 4,
 "nbformat_minor": 2
}
